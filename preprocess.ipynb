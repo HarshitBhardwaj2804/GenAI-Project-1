{
 "cells": [
  {
   "cell_type": "code",
   "execution_count": 3,
   "id": "5fad99a9",
   "metadata": {},
   "outputs": [
    {
     "data": {
      "text/plain": [
       "True"
      ]
     },
     "execution_count": 3,
     "metadata": {},
     "output_type": "execute_result"
    }
   ],
   "source": [
    "import os\n",
    "from dotenv import load_dotenv\n",
    "load_dotenv()"
   ]
  },
  {
   "cell_type": "code",
   "execution_count": 4,
   "metadata": {},
   "outputs": [],
   "source": [
    "## Setting up the enviorments varible to use Groq-Api-key\n",
    "groq_api_key = os.getenv(\"GROQ_API_KEY\")"
   ]
  },
  {
   "cell_type": "code",
   "execution_count": 5,
   "id": "40948391",
   "metadata": {},
   "outputs": [],
   "source": [
    "## Implementing the model\n",
    "from langchain_groq import ChatGroq\n",
    "model = ChatGroq(model = \"gemma2-9b-it\", groq_api_key = groq_api_key)"
   ]
  },
  {
   "cell_type": "code",
   "execution_count": 6,
   "id": "18d3bd96",
   "metadata": {},
   "outputs": [
    {
     "data": {
      "text/plain": [
       "ChatGroq(client=<groq.resources.chat.completions.Completions object at 0x000002ECF766E500>, async_client=<groq.resources.chat.completions.AsyncCompletions object at 0x000002ECF76A5000>, model_name='gemma2-9b-it', model_kwargs={}, groq_api_key=SecretStr('**********'))"
      ]
     },
     "execution_count": 6,
     "metadata": {},
     "output_type": "execute_result"
    }
   ],
   "source": [
    "model"
   ]
  },
  {
   "cell_type": "code",
   "execution_count": 7,
   "id": "cd87697c",
   "metadata": {},
   "outputs": [],
   "source": [
    "## Implementing the project application\n",
    "from langchain_core.messages import SystemMessage, HumanMessage\n",
    "message = [\n",
    "    SystemMessage(content = \"Translate the following message into the specified language.\"),\n",
    "    HumanMessage(content = \"Hello, how are you into hindi \")\n",
    "]"
   ]
  },
  {
   "cell_type": "code",
   "execution_count": 8,
   "id": "e0d8b7b8",
   "metadata": {},
   "outputs": [
    {
     "data": {
      "text/plain": [
       "AIMessage(content='नमस्ते, आप कैसे हैं? (Namaste, aap kaise hain?) \\n', additional_kwargs={}, response_metadata={'token_usage': {'completion_tokens': 22, 'prompt_tokens': 26, 'total_tokens': 48, 'completion_time': 0.04, 'prompt_time': 0.00141306, 'queue_time': 0.26223861, 'total_time': 0.04141306}, 'model_name': 'gemma2-9b-it', 'system_fingerprint': 'fp_10c08bf97d', 'service_tier': 'on_demand', 'finish_reason': 'stop', 'logprobs': None}, id='run--17147031-af91-4a9c-9639-087c4c0dc1fa-0', usage_metadata={'input_tokens': 26, 'output_tokens': 22, 'total_tokens': 48})"
      ]
     },
     "execution_count": 8,
     "metadata": {},
     "output_type": "execute_result"
    }
   ],
   "source": [
    "result = model.invoke(message)\n",
    "result"
   ]
  },
  {
   "cell_type": "code",
   "execution_count": 9,
   "id": "9150fdee",
   "metadata": {},
   "outputs": [],
   "source": [
    "## The result we are getting contains a lot of information along with the desired output, which is not needed. \n",
    "## So to see only the desired output we use StrOutputParser\n",
    "\n",
    "from langchain_core.output_parsers import StrOutputParser\n",
    "parser = StrOutputParser()"
   ]
  },
  {
   "cell_type": "code",
   "execution_count": 10,
   "id": "ad15049d",
   "metadata": {},
   "outputs": [
    {
     "data": {
      "text/plain": [
       "'नमस्ते, आप कैसे हैं? (Namaste, aap kaise hain?) \\n'"
      ]
     },
     "execution_count": 10,
     "metadata": {},
     "output_type": "execute_result"
    }
   ],
   "source": [
    "parser.invoke(result)"
   ]
  },
  {
   "cell_type": "code",
   "execution_count": 11,
   "id": "01fdc18a",
   "metadata": {},
   "outputs": [
    {
     "data": {
      "text/plain": [
       "'नमस्ते, आप कैसे हैं? (Namaste, aap kaise hain?) \\n'"
      ]
     },
     "execution_count": 11,
     "metadata": {},
     "output_type": "execute_result"
    }
   ],
   "source": [
    "## Implementing LCEL chain\n",
    "chain = model | parser\n",
    "chain.invoke(message)"
   ]
  },
  {
   "cell_type": "code",
   "execution_count": 12,
   "id": "38593981",
   "metadata": {},
   "outputs": [],
   "source": [
    "## Chaining with the help of ChatPromptTemplate\n",
    "from langchain_core.prompts import ChatPromptTemplate\n",
    "instruction = \"Translate the following message into {input_language}.\"\n",
    "\n",
    "prompt = ChatPromptTemplate.from_messages(\n",
    "    [\n",
    "        (\"system\", instruction),\n",
    "        (\"user\", \"{text}\")\n",
    "    ]\n",
    ")"
   ]
  },
  {
   "cell_type": "code",
   "execution_count": 15,
   "id": "3d99bb0c",
   "metadata": {},
   "outputs": [
    {
     "data": {
      "text/plain": [
       "\"Hey! Kaise ho? Main theek hoon, abhi ek translator bana raha hoon, Google Gemma2-9B-It llm model use karke. \\n\\n\\nLet me know if you'd like me to translate anything else! 😊\\n\\n\""
      ]
     },
     "execution_count": 15,
     "metadata": {},
     "output_type": "execute_result"
    }
   ],
   "source": [
    "chain = prompt|model|parser\n",
    "chain.invoke({\"input_language\":\"hinglish\", \"text\":\"Hello how are you. I am good, currently making a translator using goggle Gemma2-9B-It llm model.\"})"
   ]
  },
  {
   "cell_type": "code",
   "execution_count": null,
   "id": "6ad88475",
   "metadata": {},
   "outputs": [],
   "source": []
  }
 ],
 "metadata": {
  "kernelspec": {
   "display_name": "myenv",
   "language": "python",
   "name": "python3"
  },
  "language_info": {
   "codemirror_mode": {
    "name": "ipython",
    "version": 3
   },
   "file_extension": ".py",
   "mimetype": "text/x-python",
   "name": "python",
   "nbconvert_exporter": "python",
   "pygments_lexer": "ipython3",
   "version": "3.10.0"
  }
 },
 "nbformat": 4,
 "nbformat_minor": 5
}
